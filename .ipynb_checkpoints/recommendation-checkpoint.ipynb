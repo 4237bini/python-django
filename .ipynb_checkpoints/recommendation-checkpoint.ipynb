{
 "cells": [
  {
   "cell_type": "code",
   "execution_count": 6,
   "id": "informed-accreditation",
   "metadata": {},
   "outputs": [],
   "source": [
    "import pandas as pd\n",
    "\n",
    "rating1 = pd.read_csv('rating1.csv')"
   ]
  },
  {
   "cell_type": "code",
   "execution_count": 8,
   "id": "animated-valuation",
   "metadata": {},
   "outputs": [],
   "source": [
    "smartphone = pd.read_csv('smartphone.csv')"
   ]
  },
  {
   "cell_type": "code",
   "execution_count": 9,
   "id": "coastal-characteristic",
   "metadata": {},
   "outputs": [
    {
     "data": {
      "text/html": [
       "<div>\n",
       "<style scoped>\n",
       "    .dataframe tbody tr th:only-of-type {\n",
       "        vertical-align: middle;\n",
       "    }\n",
       "\n",
       "    .dataframe tbody tr th {\n",
       "        vertical-align: top;\n",
       "    }\n",
       "\n",
       "    .dataframe thead th {\n",
       "        text-align: right;\n",
       "    }\n",
       "</style>\n",
       "<table border=\"1\" class=\"dataframe\">\n",
       "  <thead>\n",
       "    <tr style=\"text-align: right;\">\n",
       "      <th></th>\n",
       "      <th>id</th>\n",
       "      <th>review</th>\n",
       "      <th>ratings</th>\n",
       "      <th>create_at</th>\n",
       "      <th>update_at</th>\n",
       "      <th>smartphone_id</th>\n",
       "      <th>user_id</th>\n",
       "      <th>status</th>\n",
       "    </tr>\n",
       "  </thead>\n",
       "  <tbody>\n",
       "    <tr>\n",
       "      <th>0</th>\n",
       "      <td>1</td>\n",
       "      <td>nice</td>\n",
       "      <td>4</td>\n",
       "      <td>2021-01-22 23:40:03.899211</td>\n",
       "      <td>2021-01-23 17:38:05.602721</td>\n",
       "      <td>1</td>\n",
       "      <td>4</td>\n",
       "      <td>True</td>\n",
       "    </tr>\n",
       "    <tr>\n",
       "      <th>1</th>\n",
       "      <td>2</td>\n",
       "      <td>mkkljlk</td>\n",
       "      <td>6</td>\n",
       "      <td>2021-01-23 09:57:06.817740</td>\n",
       "      <td>2021-01-23 17:37:54.228632</td>\n",
       "      <td>1</td>\n",
       "      <td>10</td>\n",
       "      <td>True</td>\n",
       "    </tr>\n",
       "    <tr>\n",
       "      <th>2</th>\n",
       "      <td>3</td>\n",
       "      <td>its nice</td>\n",
       "      <td>5</td>\n",
       "      <td>2021-01-23 09:58:55.275501</td>\n",
       "      <td>2021-01-23 17:37:45.383534</td>\n",
       "      <td>1</td>\n",
       "      <td>5</td>\n",
       "      <td>True</td>\n",
       "    </tr>\n",
       "    <tr>\n",
       "      <th>3</th>\n",
       "      <td>4</td>\n",
       "      <td>looted</td>\n",
       "      <td>2</td>\n",
       "      <td>2021-01-23 10:26:17.790743</td>\n",
       "      <td>2021-01-23 17:37:23.222260</td>\n",
       "      <td>1</td>\n",
       "      <td>10</td>\n",
       "      <td>True</td>\n",
       "    </tr>\n",
       "    <tr>\n",
       "      <th>4</th>\n",
       "      <td>5</td>\n",
       "      <td>great phone for sure</td>\n",
       "      <td>4</td>\n",
       "      <td>2021-01-24 18:23:03.385980</td>\n",
       "      <td>2021-01-24 18:23:03.385980</td>\n",
       "      <td>3</td>\n",
       "      <td>4</td>\n",
       "      <td>True</td>\n",
       "    </tr>\n",
       "  </tbody>\n",
       "</table>\n",
       "</div>"
      ],
      "text/plain": [
       "   id                review  ratings                   create_at  \\\n",
       "0   1                  nice        4  2021-01-22 23:40:03.899211   \n",
       "1   2               mkkljlk        6  2021-01-23 09:57:06.817740   \n",
       "2   3              its nice        5  2021-01-23 09:58:55.275501   \n",
       "3   4                looted        2  2021-01-23 10:26:17.790743   \n",
       "4   5  great phone for sure        4  2021-01-24 18:23:03.385980   \n",
       "\n",
       "                    update_at  smartphone_id  user_id status  \n",
       "0  2021-01-23 17:38:05.602721              1        4   True  \n",
       "1  2021-01-23 17:37:54.228632              1       10   True  \n",
       "2  2021-01-23 17:37:45.383534              1        5   True  \n",
       "3  2021-01-23 17:37:23.222260              1       10   True  \n",
       "4  2021-01-24 18:23:03.385980              3        4   True  "
      ]
     },
     "execution_count": 9,
     "metadata": {},
     "output_type": "execute_result"
    }
   ],
   "source": [
    "rating1.head()"
   ]
  },
  {
   "cell_type": "code",
   "execution_count": 10,
   "id": "oriental-criterion",
   "metadata": {},
   "outputs": [
    {
     "data": {
      "text/html": [
       "<div>\n",
       "<style scoped>\n",
       "    .dataframe tbody tr th:only-of-type {\n",
       "        vertical-align: middle;\n",
       "    }\n",
       "\n",
       "    .dataframe tbody tr th {\n",
       "        vertical-align: top;\n",
       "    }\n",
       "\n",
       "    .dataframe thead th {\n",
       "        text-align: right;\n",
       "    }\n",
       "</style>\n",
       "<table border=\"1\" class=\"dataframe\">\n",
       "  <thead>\n",
       "    <tr style=\"text-align: right;\">\n",
       "      <th></th>\n",
       "      <th>id</th>\n",
       "      <th>name</th>\n",
       "      <th>display</th>\n",
       "      <th>processor</th>\n",
       "      <th>memory</th>\n",
       "      <th>camera</th>\n",
       "      <th>battery</th>\n",
       "      <th>colors</th>\n",
       "      <th>price</th>\n",
       "      <th>image1</th>\n",
       "      <th>...</th>\n",
       "      <th>update_at</th>\n",
       "      <th>image</th>\n",
       "      <th>image1s</th>\n",
       "      <th>Unnamed: 15</th>\n",
       "      <th>Unnamed: 16</th>\n",
       "      <th>Unnamed: 17</th>\n",
       "      <th>Unnamed: 18</th>\n",
       "      <th>Unnamed: 19</th>\n",
       "      <th>Unnamed: 20</th>\n",
       "      <th>Unnamed: 21</th>\n",
       "    </tr>\n",
       "  </thead>\n",
       "  <tbody>\n",
       "    <tr>\n",
       "      <th>0</th>\n",
       "      <td>1.0</td>\n",
       "      <td>XIAOMI REDMI 7A</td>\n",
       "      <td>5.45 inches IPS LCD capacitive touchscreen + r...</td>\n",
       "      <td>Qualcomm Snapdragon 439</td>\n",
       "      <td>2GB RAM, 32GB storage; Expandable via microSD ...</td>\n",
       "      <td>12MP Rear Camera with f/2.2 aperture, 5MP Fron...</td>\n",
       "      <td>Non-removable Li-Po 4000 mAh battery</td>\n",
       "      <td>Matte Black, Morning blue, Matte Blue, Matte G...</td>\n",
       "      <td>Rs. 10,999.</td>\n",
       "      <td>img/smartphone/Xiaomi_Redmi_7A.png</td>\n",
       "      <td>...</td>\n",
       "      <td>47:37.1</td>\n",
       "      <td>img/smartphone/Xiaomi-Redmi-7A.png</td>\n",
       "      <td>img/smartphone/small_1oimHMc.png</td>\n",
       "      <td>NaN</td>\n",
       "      <td>NaN</td>\n",
       "      <td>NaN</td>\n",
       "      <td>NaN</td>\n",
       "      <td>NaN</td>\n",
       "      <td>NaN</td>\n",
       "      <td>NaN</td>\n",
       "    </tr>\n",
       "    <tr>\n",
       "      <th>1</th>\n",
       "      <td>3.0</td>\n",
       "      <td>Realme X50 Pro 5G</td>\n",
       "      <td>6.44 inches Super AMOLED capacitive touchscree...</td>\n",
       "      <td>Qualcomm Snapdragon 865 (7 nm+)</td>\n",
       "      <td>6/8/12GB RAM, 128/256GB storage, No Card slot</td>\n",
       "      <td>Quad Rear Cameras - (64MP, f/1.72 primary shoo...</td>\n",
       "      <td>Non-removable Li-Po 4200 mAh with 65W SuperDar...</td>\n",
       "      <td>Moss Green, Rust Red</td>\n",
       "      <td>Rs.60,800 (6/128B) | Rs.62,400 (8/128GB) | Rs....</td>\n",
       "      <td>img/smartphone/realme_x50_pro.png</td>\n",
       "      <td>...</td>\n",
       "      <td>58:07.1</td>\n",
       "      <td>img/smartphone/Realme-X50-Pro.png</td>\n",
       "      <td>img/smartphone/realme_x50_pro_BhReRK6.png</td>\n",
       "      <td>NaN</td>\n",
       "      <td>NaN</td>\n",
       "      <td>NaN</td>\n",
       "      <td>NaN</td>\n",
       "      <td>NaN</td>\n",
       "      <td>NaN</td>\n",
       "      <td>NaN</td>\n",
       "    </tr>\n",
       "    <tr>\n",
       "      <th>2</th>\n",
       "      <td>NaN</td>\n",
       "      <td>NaN</td>\n",
       "      <td>NaN</td>\n",
       "      <td>NaN</td>\n",
       "      <td>NaN</td>\n",
       "      <td>NaN</td>\n",
       "      <td>NaN</td>\n",
       "      <td>NaN</td>\n",
       "      <td>NaN</td>\n",
       "      <td>NaN</td>\n",
       "      <td>...</td>\n",
       "      <td>NaN</td>\n",
       "      <td>NaN</td>\n",
       "      <td>NaN</td>\n",
       "      <td>NaN</td>\n",
       "      <td>NaN</td>\n",
       "      <td>NaN</td>\n",
       "      <td>NaN</td>\n",
       "      <td>NaN</td>\n",
       "      <td>NaN</td>\n",
       "      <td>NaN</td>\n",
       "    </tr>\n",
       "    <tr>\n",
       "      <th>3</th>\n",
       "      <td>5.0</td>\n",
       "      <td>Samsung Galaxy J4</td>\n",
       "      <td>5.5 inches Super AMOLED capacitive touchscreen</td>\n",
       "      <td>Samsung Exynos 7570</td>\n",
       "      <td>2/3 GB RAM, 16/32 GB storage, micro SDXC (dedi...</td>\n",
       "      <td>Rear Camera (13MP, f/1.9 ,28mm wide), Front Ca...</td>\n",
       "      <td>Removable Li Ion 3000mAh battery</td>\n",
       "      <td>Black, Gold, Orchid Gray</td>\n",
       "      <td>Rs.14,990(2/16 GB)</td>\n",
       "      <td>img/smartphone/Samsung_J4.png</td>\n",
       "      <td>...</td>\n",
       "      <td>40:32.8</td>\n",
       "      <td>img/smartphone/Samsung-J4.png</td>\n",
       "      <td>img/smartphone/samsung_J4_dkY8cXQ.png</td>\n",
       "      <td>NaN</td>\n",
       "      <td>NaN</td>\n",
       "      <td>NaN</td>\n",
       "      <td>NaN</td>\n",
       "      <td>NaN</td>\n",
       "      <td>NaN</td>\n",
       "      <td>NaN</td>\n",
       "    </tr>\n",
       "    <tr>\n",
       "      <th>4</th>\n",
       "      <td>6.0</td>\n",
       "      <td>Oppo A5s</td>\n",
       "      <td>6.2 inches IPS LCD, HD+ (720 x 1520 pixels), 1...</td>\n",
       "      <td>Octa core (4×2.3 GHz Cortex A53 &amp; 4×1.8 GHz Co...</td>\n",
       "      <td>2/3 GB RAM , 32GB expandable to 256 GB (dedica...</td>\n",
       "      <td>Dual Rear Cameras: 13MP, f/2.2 (primary) + 2MP...</td>\n",
       "      <td>4,230 mAh non removable Li Ion battery</td>\n",
       "      <td>red, black, gold, green</td>\n",
       "      <td>Rs.15,000</td>\n",
       "      <td>img/smartphone/oppo_a_5_s.png</td>\n",
       "      <td>...</td>\n",
       "      <td>43:44.9</td>\n",
       "      <td>img/smartphone/Oppo-A5s.png</td>\n",
       "      <td>img/smartphone/oppo_a_5_s_qJeQEHl.png</td>\n",
       "      <td>NaN</td>\n",
       "      <td>NaN</td>\n",
       "      <td>NaN</td>\n",
       "      <td>NaN</td>\n",
       "      <td>NaN</td>\n",
       "      <td>NaN</td>\n",
       "      <td>NaN</td>\n",
       "    </tr>\n",
       "  </tbody>\n",
       "</table>\n",
       "<p>5 rows × 22 columns</p>\n",
       "</div>"
      ],
      "text/plain": [
       "    id               name                                            display  \\\n",
       "0  1.0    XIAOMI REDMI 7A  5.45 inches IPS LCD capacitive touchscreen + r...   \n",
       "1  3.0  Realme X50 Pro 5G  6.44 inches Super AMOLED capacitive touchscree...   \n",
       "2  NaN                NaN                                                NaN   \n",
       "3  5.0  Samsung Galaxy J4     5.5 inches Super AMOLED capacitive touchscreen   \n",
       "4  6.0           Oppo A5s  6.2 inches IPS LCD, HD+ (720 x 1520 pixels), 1...   \n",
       "\n",
       "                                           processor  \\\n",
       "0                            Qualcomm Snapdragon 439   \n",
       "1                    Qualcomm Snapdragon 865 (7 nm+)   \n",
       "2                                                NaN   \n",
       "3                                Samsung Exynos 7570   \n",
       "4  Octa core (4×2.3 GHz Cortex A53 & 4×1.8 GHz Co...   \n",
       "\n",
       "                                              memory  \\\n",
       "0  2GB RAM, 32GB storage; Expandable via microSD ...   \n",
       "1      6/8/12GB RAM, 128/256GB storage, No Card slot   \n",
       "2                                                NaN   \n",
       "3  2/3 GB RAM, 16/32 GB storage, micro SDXC (dedi...   \n",
       "4  2/3 GB RAM , 32GB expandable to 256 GB (dedica...   \n",
       "\n",
       "                                              camera  \\\n",
       "0  12MP Rear Camera with f/2.2 aperture, 5MP Fron...   \n",
       "1  Quad Rear Cameras - (64MP, f/1.72 primary shoo...   \n",
       "2                                                NaN   \n",
       "3  Rear Camera (13MP, f/1.9 ,28mm wide), Front Ca...   \n",
       "4  Dual Rear Cameras: 13MP, f/2.2 (primary) + 2MP...   \n",
       "\n",
       "                                             battery  \\\n",
       "0               Non-removable Li-Po 4000 mAh battery   \n",
       "1  Non-removable Li-Po 4200 mAh with 65W SuperDar...   \n",
       "2                                                NaN   \n",
       "3                   Removable Li Ion 3000mAh battery   \n",
       "4             4,230 mAh non removable Li Ion battery   \n",
       "\n",
       "                                              colors  \\\n",
       "0  Matte Black, Morning blue, Matte Blue, Matte G...   \n",
       "1                               Moss Green, Rust Red   \n",
       "2                                                NaN   \n",
       "3                           Black, Gold, Orchid Gray   \n",
       "4                            red, black, gold, green   \n",
       "\n",
       "                                               price  \\\n",
       "0                                        Rs. 10,999.   \n",
       "1  Rs.60,800 (6/128B) | Rs.62,400 (8/128GB) | Rs....   \n",
       "2                                                NaN   \n",
       "3                                 Rs.14,990(2/16 GB)   \n",
       "4                                          Rs.15,000   \n",
       "\n",
       "                               image1  ...  update_at  \\\n",
       "0  img/smartphone/Xiaomi_Redmi_7A.png  ...    47:37.1   \n",
       "1   img/smartphone/realme_x50_pro.png  ...    58:07.1   \n",
       "2                                 NaN  ...        NaN   \n",
       "3       img/smartphone/Samsung_J4.png  ...    40:32.8   \n",
       "4       img/smartphone/oppo_a_5_s.png  ...    43:44.9   \n",
       "\n",
       "                                image  \\\n",
       "0  img/smartphone/Xiaomi-Redmi-7A.png   \n",
       "1   img/smartphone/Realme-X50-Pro.png   \n",
       "2                                 NaN   \n",
       "3       img/smartphone/Samsung-J4.png   \n",
       "4         img/smartphone/Oppo-A5s.png   \n",
       "\n",
       "                                     image1s Unnamed: 15 Unnamed: 16  \\\n",
       "0           img/smartphone/small_1oimHMc.png         NaN         NaN   \n",
       "1  img/smartphone/realme_x50_pro_BhReRK6.png         NaN         NaN   \n",
       "2                                        NaN         NaN         NaN   \n",
       "3      img/smartphone/samsung_J4_dkY8cXQ.png         NaN         NaN   \n",
       "4      img/smartphone/oppo_a_5_s_qJeQEHl.png         NaN         NaN   \n",
       "\n",
       "   Unnamed: 17  Unnamed: 18  Unnamed: 19  Unnamed: 20  Unnamed: 21  \n",
       "0          NaN          NaN          NaN          NaN          NaN  \n",
       "1          NaN          NaN          NaN          NaN          NaN  \n",
       "2          NaN          NaN          NaN          NaN          NaN  \n",
       "3          NaN          NaN          NaN          NaN          NaN  \n",
       "4          NaN          NaN          NaN          NaN          NaN  \n",
       "\n",
       "[5 rows x 22 columns]"
      ]
     },
     "execution_count": 10,
     "metadata": {},
     "output_type": "execute_result"
    }
   ],
   "source": [
    "smartphone.head()"
   ]
  },
  {
   "cell_type": "code",
   "execution_count": 11,
   "id": "senior-depth",
   "metadata": {},
   "outputs": [
    {
     "data": {
      "text/plain": [
       "7"
      ]
     },
     "execution_count": 11,
     "metadata": {},
     "output_type": "execute_result"
    }
   ],
   "source": [
    "len(rating1)"
   ]
  },
  {
   "cell_type": "code",
   "execution_count": 13,
   "id": "proper-completion",
   "metadata": {},
   "outputs": [
    {
     "data": {
      "text/plain": [
       "3"
      ]
     },
     "execution_count": 13,
     "metadata": {},
     "output_type": "execute_result"
    }
   ],
   "source": [
    "len(rating1['user_id'].unique())"
   ]
  },
  {
   "cell_type": "code",
   "execution_count": 17,
   "id": "abstract-netscape",
   "metadata": {},
   "outputs": [
    {
     "data": {
      "text/plain": [
       "4"
      ]
     },
     "execution_count": 17,
     "metadata": {},
     "output_type": "execute_result"
    }
   ],
   "source": [
    "len(rating1['smartphone_id'].unique())"
   ]
  },
  {
   "cell_type": "code",
   "execution_count": 20,
   "id": "requested-captain",
   "metadata": {},
   "outputs": [],
   "source": [
    "import statistics"
   ]
  },
  {
   "cell_type": "code",
   "execution_count": 21,
   "id": "provincial-isolation",
   "metadata": {},
   "outputs": [],
   "source": [
    "import statistics"
   ]
  },
  {
   "cell_type": "code",
   "execution_count": 22,
   "id": "capable-grounds",
   "metadata": {},
   "outputs": [
    {
     "ename": "TypeError",
     "evalue": "count() takes exactly one argument (0 given)",
     "output_type": "error",
     "traceback": [
      "\u001b[1;31m---------------------------------------------------------------------------\u001b[0m",
      "\u001b[1;31mTypeError\u001b[0m                                 Traceback (most recent call last)",
      "\u001b[1;32m<ipython-input-22-601a59b0921f>\u001b[0m in \u001b[0;36m<module>\u001b[1;34m\u001b[0m\n\u001b[0;32m      1\u001b[0m \u001b[0mrating1_per_user\u001b[0m \u001b[1;33m=\u001b[0m \u001b[0mrating1\u001b[0m\u001b[1;33m.\u001b[0m\u001b[0mgroupby\u001b[0m\u001b[1;33m(\u001b[0m\u001b[1;34m'user_id'\u001b[0m\u001b[1;33m)\u001b[0m\u001b[1;33m\u001b[0m\u001b[1;33m\u001b[0m\u001b[0m\n\u001b[1;32m----> 2\u001b[1;33m \u001b[1;33m[\u001b[0m\u001b[1;34m'rating1'\u001b[0m\u001b[1;33m]\u001b[0m\u001b[1;33m.\u001b[0m\u001b[0mcount\u001b[0m\u001b[1;33m(\u001b[0m\u001b[1;33m)\u001b[0m\u001b[1;33m\u001b[0m\u001b[1;33m\u001b[0m\u001b[0m\n\u001b[0m\u001b[0;32m      3\u001b[0m \u001b[0mstatistics\u001b[0m\u001b[1;33m.\u001b[0m\u001b[0mmean\u001b[0m\u001b[1;33m(\u001b[0m\u001b[0mrating1_per_user\u001b[0m\u001b[1;33m.\u001b[0m\u001b[0mtolist\u001b[0m\u001b[1;33m(\u001b[0m\u001b[1;33m)\u001b[0m\u001b[1;33m)\u001b[0m\u001b[1;33m\u001b[0m\u001b[1;33m\u001b[0m\u001b[0m\n",
      "\u001b[1;31mTypeError\u001b[0m: count() takes exactly one argument (0 given)"
     ]
    }
   ],
   "source": [
    "rating1_per_user = rating1.groupby('user_id')\n",
    "['rating1'].count()\n",
    "statistics.mean(rating1_per_user.tolist())"
   ]
  },
  {
   "cell_type": "code",
   "execution_count": 24,
   "id": "crucial-sugar",
   "metadata": {},
   "outputs": [
    {
     "data": {
      "text/plain": [
       "user_id\n",
       "4     [[AxesSubplot(0.125,0.551739;0.336957x0.328261...\n",
       "5     [[AxesSubplot(0.125,0.551739;0.336957x0.328261...\n",
       "10    [[AxesSubplot(0.125,0.551739;0.336957x0.328261...\n",
       "dtype: object"
      ]
     },
     "execution_count": 24,
     "metadata": {},
     "output_type": "execute_result"
    },
    {
     "data": {
      "image/png": "[encoded data removed]",
      "text/plain": [
       "<Figure size 432x288 with 4 Axes>"
      ]
     },
     "metadata": {
      "needs_background": "light"
     },
     "output_type": "display_data"
    },
    {
     "data": {
      "image/png": "[encoded data removed]",
      "text/plain": [
       "<Figure size 432x288 with 4 Axes>"
      ]
     },
     "metadata": {
      "needs_background": "light"
     },
     "output_type": "display_data"
    },
    {
     "data": {
      "image/png": "[encoded data removed]",
      "text/plain": [
       "<Figure size 432x288 with 4 Axes>"
      ]
     },
     "metadata": {
      "needs_background": "light"
     },
     "output_type": "display_data"
    }
   ],
   "source": [
    "import matplotlib.pyplot as plt\n",
    "%matplotlib inline\n",
    "rating1_per_user.hist(bins=20, range=(0,20))"
   ]
  },
  {
   "cell_type": "code",
   "execution_count": 30,
   "id": "driving-nothing",
   "metadata": {},
   "outputs": [
    {
     "data": {
      "text/plain": [
       "1.75"
      ]
     },
     "execution_count": 30,
     "metadata": {},
     "output_type": "execute_result"
    }
   ],
   "source": [
    "rating1_per_smartphone = rating1.groupby('smartphone_id')['ratings'].count()\n",
    "statistics.mean(rating1_per_smartphone.tolist())"
   ]
  },
  {
   "cell_type": "code",
   "execution_count": 32,
   "id": "broke-ministry",
   "metadata": {},
   "outputs": [
    {
     "data": {
      "text/plain": [
       "<AxesSubplot:>"
      ]
     },
     "execution_count": 32,
     "metadata": {},
     "output_type": "execute_result"
    },
    {
     "data": {
      "image/png": "[encoded data removed]",
      "text/plain": [
       "<Figure size 432x288 with 1 Axes>"
      ]
     },
     "metadata": {
      "needs_background": "light"
     },
     "output_type": "display_data"
    }
   ],
   "source": [
    "import matplotlib.pyplot as plt\n",
    "%matplotlib inline\n",
    "rating1_per_smartphone.hist(bins=20, range=(0,25))"
   ]
  },
  {
   "cell_type": "code",
   "execution_count": 33,
   "id": "colored-freedom",
   "metadata": {},
   "outputs": [],
   "source": [
    "rating1_per_smartphone_df = pd.DataFrame(rating1_per_smartphone)"
   ]
  },
  {
   "cell_type": "code",
   "execution_count": 34,
   "id": "reported-chicago",
   "metadata": {},
   "outputs": [],
   "source": [
    "rating1_per_user_df = pd.DataFrame(rating1_per_user)"
   ]
  },
  {
   "cell_type": "code",
   "execution_count": 36,
   "id": "daily-dairy",
   "metadata": {},
   "outputs": [],
   "source": [
    "rating1_matrix = rating1.pivot_table(index='user_id', columns='smartphone_id', values='ratings')"
   ]
  },
  {
   "cell_type": "code",
   "execution_count": 37,
   "id": "seventh-marina",
   "metadata": {},
   "outputs": [],
   "source": [
    "rating1_matrix = rating1_matrix.fillna(0)"
   ]
  },
  {
   "cell_type": "code",
   "execution_count": 38,
   "id": "requested-palestinian",
   "metadata": {},
   "outputs": [
    {
     "data": {
      "text/html": [
       "<div>\n",
       "<style scoped>\n",
       "    .dataframe tbody tr th:only-of-type {\n",
       "        vertical-align: middle;\n",
       "    }\n",
       "\n",
       "    .dataframe tbody tr th {\n",
       "        vertical-align: top;\n",
       "    }\n",
       "\n",
       "    .dataframe thead th {\n",
       "        text-align: right;\n",
       "    }\n",
       "</style>\n",
       "<table border=\"1\" class=\"dataframe\">\n",
       "  <thead>\n",
       "    <tr style=\"text-align: right;\">\n",
       "      <th>smartphone_id</th>\n",
       "      <th>1</th>\n",
       "      <th>3</th>\n",
       "      <th>4</th>\n",
       "      <th>6</th>\n",
       "    </tr>\n",
       "    <tr>\n",
       "      <th>user_id</th>\n",
       "      <th></th>\n",
       "      <th></th>\n",
       "      <th></th>\n",
       "      <th></th>\n",
       "    </tr>\n",
       "  </thead>\n",
       "  <tbody>\n",
       "    <tr>\n",
       "      <th>4</th>\n",
       "      <td>4.0</td>\n",
       "      <td>4.0</td>\n",
       "      <td>4.0</td>\n",
       "      <td>2.0</td>\n",
       "    </tr>\n",
       "    <tr>\n",
       "      <th>5</th>\n",
       "      <td>5.0</td>\n",
       "      <td>0.0</td>\n",
       "      <td>0.0</td>\n",
       "      <td>0.0</td>\n",
       "    </tr>\n",
       "    <tr>\n",
       "      <th>10</th>\n",
       "      <td>4.0</td>\n",
       "      <td>0.0</td>\n",
       "      <td>0.0</td>\n",
       "      <td>0.0</td>\n",
       "    </tr>\n",
       "  </tbody>\n",
       "</table>\n",
       "</div>"
      ],
      "text/plain": [
       "smartphone_id    1    3    4    6\n",
       "user_id                          \n",
       "4              4.0  4.0  4.0  2.0\n",
       "5              5.0  0.0  0.0  0.0\n",
       "10             4.0  0.0  0.0  0.0"
      ]
     },
     "execution_count": 38,
     "metadata": {},
     "output_type": "execute_result"
    }
   ],
   "source": [
    "rating1_matrix.head()"
   ]
  },
  {
   "cell_type": "code",
   "execution_count": 39,
   "id": "comparative-iraqi",
   "metadata": {},
   "outputs": [],
   "source": [
    "from sklearn.metrics.pairwise import cosine_similarity\n",
    "import operator"
   ]
  },
  {
   "cell_type": "code",
   "execution_count": 47,
   "id": "coastal-technique",
   "metadata": {},
   "outputs": [],
   "source": [
    "def similar_users(user_id, matrix, k=2):\n",
    "    user =  matrix[matrix.index == user_id]\n",
    "    other_users = matrix[matrix.index != user_id]\n",
    "    similarities = cosine_similarity(user,other_users)[0].tolist()\n",
    "    indices = other_users.index.tolist()\n",
    "    index_similarity = dict(zip(indices, similarities))\n",
    "    index_similarity_sorted = sorted(index_similarity.items(), key=operator.itemgetter(1))\n",
    "    index_similarity_sorted.reverse()\n",
    "    top_users_similarities = index_similarity_sorted[:k]\n",
    "    users = [u[0] for u in top_users_similarities]\n",
    "    return users"
   ]
  },
  {
   "cell_type": "code",
   "execution_count": 48,
   "id": "surrounded-instruction",
   "metadata": {},
   "outputs": [],
   "source": [
    "current_user = 5\n"
   ]
  },
  {
   "cell_type": "code",
   "execution_count": 49,
   "id": "mighty-bargain",
   "metadata": {},
   "outputs": [
    {
     "name": "stdout",
     "output_type": "stream",
     "text": [
      "[10, 4]\n"
     ]
    }
   ],
   "source": [
    "similar_user_indices = similar_users(current_user, rating1_matrix)\n",
    "print(similar_user_indices)"
   ]
  },
  {
   "cell_type": "code",
   "execution_count": 60,
   "id": "rental-prime",
   "metadata": {},
   "outputs": [],
   "source": [
    "def recommend_item(user_index, similar_user_indices, matrix, items=3):\n",
    "    similar_users = matrix[matrix.index.isin(similar_user_indices)]\n",
    "    similar_users = similar_users.mean(axis=0)\n",
    "    similar_users_df = pd.DataFrame(similar_users, columns=['mean'])\n",
    "    user_df = matrix[matrix.index == user_index]\n",
    "    user_df_transposed = user_df.transpose()\n",
    "    user_df_transposed.columns = ['ratings']\n",
    "    user_df_transposed = user_df_transposed[user_df_transposed['ratings']==0]\n",
    "    \n",
    "    smartphone_unseen = user_df_transposed.index.tolist()\n",
    "    similar_users_df_filtered = similar_users_df[similar_users_df.index.isin(smartphone_unseen)]\n",
    "    similar_users_df_ordered = similar_users_df.sort_values(by=['mean'], ascending=False)\n",
    "    top_n_smartphone = similar_users_df_ordered.head(items)\n",
    "    top_n_smartphone_indices = top_n_smartphone.index.tolist()\n",
    "    smartphone_information = smartphone[smartphone['smartphone_id'].isin(top_n_smartphone_indices)]\n",
    "    return samrtphone_information "
   ]
  },
  {
   "cell_type": "code",
   "execution_count": 61,
   "id": "dirty-illinois",
   "metadata": {},
   "outputs": [
    {
     "ename": "UnboundLocalError",
     "evalue": "local variable 'user_df_transposed' referenced before assignment",
     "output_type": "error",
     "traceback": [
      "\u001b[1;31m---------------------------------------------------------------------------\u001b[0m",
      "\u001b[1;31mUnboundLocalError\u001b[0m                         Traceback (most recent call last)",
      "\u001b[1;32m<ipython-input-61-b76b74fb9aee>\u001b[0m in \u001b[0;36m<module>\u001b[1;34m\u001b[0m\n\u001b[1;32m----> 1\u001b[1;33m \u001b[0mrecommend_item\u001b[0m\u001b[1;33m(\u001b[0m\u001b[1;36m5\u001b[0m\u001b[1;33m,\u001b[0m \u001b[0msimilar_user_indices\u001b[0m\u001b[1;33m,\u001b[0m \u001b[0mrating1_matrix\u001b[0m\u001b[1;33m)\u001b[0m\u001b[1;33m\u001b[0m\u001b[1;33m\u001b[0m\u001b[0m\n\u001b[0m",
      "\u001b[1;32m<ipython-input-60-c696aa449bc4>\u001b[0m in \u001b[0;36mrecommend_item\u001b[1;34m(user_index, similar_user_indices, matrix, items)\u001b[0m\n\u001b[0;32m      4\u001b[0m     \u001b[0msimilar_users_df\u001b[0m \u001b[1;33m=\u001b[0m \u001b[0mpd\u001b[0m\u001b[1;33m.\u001b[0m\u001b[0mDataFrame\u001b[0m\u001b[1;33m(\u001b[0m\u001b[0msimilar_users\u001b[0m\u001b[1;33m,\u001b[0m \u001b[0mcolumns\u001b[0m\u001b[1;33m=\u001b[0m\u001b[1;33m[\u001b[0m\u001b[1;34m'mean'\u001b[0m\u001b[1;33m]\u001b[0m\u001b[1;33m)\u001b[0m\u001b[1;33m\u001b[0m\u001b[1;33m\u001b[0m\u001b[0m\n\u001b[0;32m      5\u001b[0m     \u001b[0muser_df\u001b[0m \u001b[1;33m=\u001b[0m \u001b[0mmatrix\u001b[0m\u001b[1;33m[\u001b[0m\u001b[0mmatrix\u001b[0m\u001b[1;33m.\u001b[0m\u001b[0mindex\u001b[0m \u001b[1;33m==\u001b[0m \u001b[0muser_index\u001b[0m\u001b[1;33m]\u001b[0m\u001b[1;33m\u001b[0m\u001b[1;33m\u001b[0m\u001b[0m\n\u001b[1;32m----> 6\u001b[1;33m     \u001b[0muser_df_transposed\u001b[0m\u001b[1;33m.\u001b[0m\u001b[0mcolumns\u001b[0m \u001b[1;33m=\u001b[0m \u001b[1;33m[\u001b[0m\u001b[1;34m'ratings'\u001b[0m\u001b[1;33m]\u001b[0m\u001b[1;33m\u001b[0m\u001b[1;33m\u001b[0m\u001b[0m\n\u001b[0m\u001b[0;32m      7\u001b[0m     \u001b[0muser_df_transposed\u001b[0m \u001b[1;33m=\u001b[0m \u001b[0muser_df_transposed\u001b[0m\u001b[1;33m[\u001b[0m\u001b[0muser_df_transposed\u001b[0m\u001b[1;33m[\u001b[0m\u001b[1;34m'ratings'\u001b[0m\u001b[1;33m]\u001b[0m\u001b[1;33m==\u001b[0m\u001b[1;36m0\u001b[0m\u001b[1;33m]\u001b[0m\u001b[1;33m\u001b[0m\u001b[1;33m\u001b[0m\u001b[0m\n\u001b[0;32m      8\u001b[0m \u001b[1;33m\u001b[0m\u001b[0m\n",
      "\u001b[1;31mUnboundLocalError\u001b[0m: local variable 'user_df_transposed' referenced before assignment"
     ]
    }
   ],
   "source": [
    "recommend_item(5, similar_user_indices, rating1_matrix)"
   ]
  },
  {
   "cell_type": "code",
   "execution_count": null,
   "id": "raising-toolbox",
   "metadata": {},
   "outputs": [],
   "source": []
  }
 ],
 "metadata": {
  "kernelspec": {
   "display_name": "Python 3",
   "language": "python",
   "name": "python3"
  },
  "language_info": {
   "codemirror_mode": {
    "name": "ipython",
    "version": 3
   },
   "file_extension": ".py",
   "mimetype": "text/x-python",
   "name": "python",
   "nbconvert_exporter": "python",
   "pygments_lexer": "ipython3",
   "version": "3.8.5"
  }
 },
 "nbformat": 4,
 "nbformat_minor": 5
}

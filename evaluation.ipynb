{
 "cells": [
  {
   "cell_type": "code",
   "execution_count": 3,
   "id": "educational-childhood",
   "metadata": {},
   "outputs": [],
   "source": [
    "import numpy as np\n",
    "import matplotlib.pyplot as plt\n",
    "import pandas as pd"
   ]
  },
  {
   "cell_type": "code",
   "execution_count": 4,
   "id": "later-crazy",
   "metadata": {},
   "outputs": [],
   "source": [
    "dataset = pd.read_csv('rating3.csv')\n",
    "X = dataset.iloc[:, [1,2]].values\n",
    "y = dataset.iloc[:, -1].values\n",
    "                      "
   ]
  },
  {
   "cell_type": "code",
   "execution_count": 5,
   "id": "mineral-stockholm",
   "metadata": {},
   "outputs": [],
   "source": [
    "from sklearn.model_selection import train_test_split\n",
    "X_train, X_test, y_train, y_test = train_test_split(X, y, test_size = 0.20, random_state = 0)"
   ]
  },
  {
   "cell_type": "code",
   "execution_count": 6,
   "id": "middle-disabled",
   "metadata": {},
   "outputs": [],
   "source": [
    "from sklearn.preprocessing import StandardScaler\n",
    "sc = StandardScaler()\n",
    "X_train = sc.fit_transform(X_train)\n",
    "X_test = sc.transform(X_test)"
   ]
  },
  {
   "cell_type": "code",
   "execution_count": 7,
   "id": "running-coordination",
   "metadata": {},
   "outputs": [
    {
     "data": {
      "text/plain": [
       "KNeighborsClassifier(n_neighbors=3)"
      ]
     },
     "execution_count": 7,
     "metadata": {},
     "output_type": "execute_result"
    }
   ],
   "source": [
    "from sklearn.neighbors import KNeighborsClassifier\n",
    "classifier = KNeighborsClassifier(n_neighbors = 3)\n",
    "classifier.fit(X_train, y_train)"
   ]
  },
  {
   "cell_type": "code",
   "execution_count": 8,
   "id": "involved-fairy",
   "metadata": {},
   "outputs": [],
   "source": [
    "y_pred = classifier.predict(X_test)"
   ]
  },
  {
   "cell_type": "code",
   "execution_count": 9,
   "id": "consistent-hydrogen",
   "metadata": {},
   "outputs": [
    {
     "name": "stdout",
     "output_type": "stream",
     "text": [
      "[[0 0 0 ... 0 0 0]\n",
      " [0 0 0 ... 0 0 0]\n",
      " [0 0 0 ... 0 0 0]\n",
      " ...\n",
      " [0 0 0 ... 0 0 0]\n",
      " [0 0 0 ... 0 0 0]\n",
      " [0 0 0 ... 0 0 0]]\n",
      "              precision    recall  f1-score   support\n",
      "\n",
      "           1       0.00      0.00      0.00       0.0\n",
      "           2       0.00      0.00      0.00       1.0\n",
      "           4       0.00      0.00      0.00       0.0\n",
      "           5       0.00      0.00      0.00       1.0\n",
      "           7       0.00      0.00      0.00       1.0\n",
      "           8       0.00      0.00      0.00       0.0\n",
      "           9       0.00      0.00      0.00       0.0\n",
      "          10       0.00      0.00      0.00       0.0\n",
      "          11       0.00      0.00      0.00       1.0\n",
      "          12       0.00      0.00      0.00       0.0\n",
      "          13       0.00      0.00      0.00       1.0\n",
      "          14       0.00      0.00      0.00       0.0\n",
      "          16       0.00      0.00      0.00       1.0\n",
      "          17       0.00      0.00      0.00       0.0\n",
      "          18       0.00      0.00      0.00       0.0\n",
      "          20       0.00      0.00      0.00       0.0\n",
      "          22       0.00      0.00      0.00       1.0\n",
      "          24       0.00      0.00      0.00       0.0\n",
      "          26       0.00      0.00      0.00       0.0\n",
      "          27       0.00      0.00      0.00       1.0\n",
      "          29       0.00      0.00      0.00       0.0\n",
      "          35       0.00      0.00      0.00       0.0\n",
      "          36       0.00      0.00      0.00       0.0\n",
      "          38       0.00      0.00      0.00       1.0\n",
      "          40       0.00      0.00      0.00       0.0\n",
      "          42       0.00      0.00      0.00       0.0\n",
      "          44       0.00      0.00      0.00       0.0\n",
      "          46       0.00      0.00      0.00       1.0\n",
      "          48       0.00      0.00      0.00       0.0\n",
      "          49       0.00      0.00      0.00       0.0\n",
      "          50       0.00      0.00      0.00       1.0\n",
      "          53       0.00      0.00      0.00       1.0\n",
      "          54       0.00      0.00      0.00       0.0\n",
      "          55       0.00      0.00      0.00       1.0\n",
      "          56       0.00      0.00      0.00       0.0\n",
      "          60       0.00      0.00      0.00       1.0\n",
      "          61       0.00      0.00      0.00       1.0\n",
      "          62       0.00      0.00      0.00       0.0\n",
      "          64       0.00      0.00      0.00       0.0\n",
      "          66       0.00      0.00      0.00       1.0\n",
      "          68       0.00      0.00      0.00       0.0\n",
      "          75       0.00      0.00      0.00       1.0\n",
      "          76       0.00      0.00      0.00       0.0\n",
      "          77       0.00      0.00      0.00       1.0\n",
      "          78       0.00      0.00      0.00       0.0\n",
      "          79       0.00      0.00      0.00       1.0\n",
      "          80       0.00      0.00      0.00       0.0\n",
      "          86       0.00      0.00      0.00       0.0\n",
      "          87       0.00      0.00      0.00       0.0\n",
      "          91       0.00      0.00      0.00       1.0\n",
      "          92       0.00      0.00      0.00       0.0\n",
      "          94       0.00      0.00      0.00       0.0\n",
      "          97       0.00      0.00      0.00       1.0\n",
      "          98       0.00      0.00      0.00       0.0\n",
      "         101       0.00      0.00      0.00       1.0\n",
      "         102       0.00      0.00      0.00       0.0\n",
      "         103       0.00      0.00      0.00       1.0\n",
      "         104       0.00      0.00      0.00       0.0\n",
      "         108       0.00      0.00      0.00       1.0\n",
      "         112       0.00      0.00      0.00       0.0\n",
      "         113       0.00      0.00      0.00       0.0\n",
      "         114       0.00      0.00      0.00       1.0\n",
      "         115       0.00      0.00      0.00       0.0\n",
      "         116       0.00      0.00      0.00       0.0\n",
      "         121       0.00      0.00      0.00       0.0\n",
      "         123       0.00      0.00      0.00       0.0\n",
      "         125       0.00      0.00      0.00       1.0\n",
      "         126       0.00      0.00      0.00       0.0\n",
      "         128       0.00      0.00      0.00       0.0\n",
      "         133       0.00      0.00      0.00       1.0\n",
      "         134       0.00      0.00      0.00       0.0\n",
      "         136       0.00      0.00      0.00       1.0\n",
      "         143       0.00      0.00      0.00       1.0\n",
      "         145       0.00      0.00      0.00       1.0\n",
      "         148       0.00      0.00      0.00       0.0\n",
      "         150       0.00      0.00      0.00       0.0\n",
      "         151       0.00      0.00      0.00       1.0\n",
      "         152       0.00      0.00      0.00       0.0\n",
      "         154       0.00      0.00      0.00       1.0\n",
      "         155       0.00      0.00      0.00       1.0\n",
      "         156       0.00      0.00      0.00       1.0\n",
      "         158       0.00      0.00      0.00       1.0\n",
      "         159       0.00      0.00      0.00       1.0\n",
      "         160       0.00      0.00      0.00       1.0\n",
      "         169       0.00      0.00      0.00       1.0\n",
      "         170       0.00      0.00      0.00       0.0\n",
      "         171       0.00      0.00      0.00       1.0\n",
      "         172       0.00      0.00      0.00       1.0\n",
      "         176       0.00      0.00      0.00       1.0\n",
      "         189       0.00      0.00      0.00       1.0\n",
      "         191       0.00      0.00      0.00       1.0\n",
      "         192       0.00      0.00      0.00       1.0\n",
      "         194       0.00      0.00      0.00       0.0\n",
      "         195       0.00      0.00      0.00       1.0\n",
      "         197       0.00      0.00      0.00       1.0\n",
      "         199       0.00      0.00      0.00       1.0\n",
      "         203       0.00      0.00      0.00       0.0\n",
      "         206       0.00      0.00      0.00       0.0\n",
      "         207       0.00      0.00      0.00       1.0\n",
      "         209       0.00      0.00      0.00       0.0\n",
      "         215       0.00      0.00      0.00       0.0\n",
      "         218       0.00      0.00      0.00       1.0\n",
      "         225       0.00      0.00      0.00       0.0\n",
      "         227       0.00      0.00      0.00       0.0\n",
      "         235       0.00      0.00      0.00       1.0\n",
      "         237       0.00      0.00      0.00       0.0\n",
      "         241       0.00      0.00      0.00       1.0\n",
      "         242       0.00      0.00      0.00       1.0\n",
      "         247       0.00      0.00      0.00       0.0\n",
      "         250       0.00      0.00      0.00       1.0\n",
      "         254       0.00      0.00      0.00       1.0\n",
      "         255       0.00      0.00      0.00       1.0\n",
      "         260       0.00      0.00      0.00       1.0\n",
      "         285       0.00      0.00      0.00       0.0\n",
      "         288       0.00      0.00      0.00       1.0\n",
      "         291       0.00      0.00      0.00       0.0\n",
      "         303       0.00      0.00      0.00       1.0\n",
      "         307       0.00      0.00      0.00       1.0\n",
      "         312       0.00      0.00      0.00       1.0\n",
      "         313       0.00      0.00      0.00       1.0\n",
      "         314       0.00      0.00      0.00       1.0\n",
      "         316       0.00      0.00      0.00       1.0\n",
      "         318       0.00      0.00      0.00       1.0\n",
      "         337       0.00      0.00      0.00       1.0\n",
      "         340       0.00      0.00      0.00       1.0\n",
      "         341       0.00      0.00      0.00       1.0\n",
      "         344       0.00      0.00      0.00       1.0\n",
      "         345       0.00      0.00      0.00       1.0\n",
      "         352       0.00      0.00      0.00       1.0\n",
      "         356       0.00      0.00      0.00       1.0\n",
      "         357       0.00      0.00      0.00       1.0\n",
      "         358       0.00      0.00      0.00       1.0\n",
      "         365       0.00      0.00      0.00       1.0\n",
      "         367       0.00      0.00      0.00       1.0\n",
      "         383       0.00      0.00      0.00       1.0\n",
      "         385       0.00      0.00      0.00       1.0\n",
      "         395       0.00      0.00      0.00       1.0\n",
      "         407       0.00      0.00      0.00       1.0\n",
      "         410       0.00      0.00      0.00       1.0\n",
      "         414       0.00      0.00      0.00       1.0\n",
      "         417       0.00      0.00      0.00       1.0\n",
      "         418       0.00      0.00      0.00       1.0\n",
      "         421       0.00      0.00      0.00       1.0\n",
      "         424       0.00      0.00      0.00       1.0\n",
      "\n",
      "    accuracy                           0.00      85.0\n",
      "   macro avg       0.00      0.00      0.00      85.0\n",
      "weighted avg       0.00      0.00      0.00      85.0\n",
      "\n"
     ]
    },
    {
     "name": "stderr",
     "output_type": "stream",
     "text": [
      "c:\\users\\bini\\appdata\\local\\programs\\python\\python38\\lib\\site-packages\\sklearn\\metrics\\_classification.py:1245: UndefinedMetricWarning: Precision and F-score are ill-defined and being set to 0.0 in labels with no predicted samples. Use `zero_division` parameter to control this behavior.\n",
      "  _warn_prf(average, modifier, msg_start, len(result))\n",
      "c:\\users\\bini\\appdata\\local\\programs\\python\\python38\\lib\\site-packages\\sklearn\\metrics\\_classification.py:1245: UndefinedMetricWarning: Recall and F-score are ill-defined and being set to 0.0 in labels with no true samples. Use `zero_division` parameter to control this behavior.\n",
      "  _warn_prf(average, modifier, msg_start, len(result))\n",
      "c:\\users\\bini\\appdata\\local\\programs\\python\\python38\\lib\\site-packages\\sklearn\\metrics\\_classification.py:1245: UndefinedMetricWarning: Precision and F-score are ill-defined and being set to 0.0 in labels with no predicted samples. Use `zero_division` parameter to control this behavior.\n",
      "  _warn_prf(average, modifier, msg_start, len(result))\n",
      "c:\\users\\bini\\appdata\\local\\programs\\python\\python38\\lib\\site-packages\\sklearn\\metrics\\_classification.py:1245: UndefinedMetricWarning: Recall and F-score are ill-defined and being set to 0.0 in labels with no true samples. Use `zero_division` parameter to control this behavior.\n",
      "  _warn_prf(average, modifier, msg_start, len(result))\n",
      "c:\\users\\bini\\appdata\\local\\programs\\python\\python38\\lib\\site-packages\\sklearn\\metrics\\_classification.py:1245: UndefinedMetricWarning: Precision and F-score are ill-defined and being set to 0.0 in labels with no predicted samples. Use `zero_division` parameter to control this behavior.\n",
      "  _warn_prf(average, modifier, msg_start, len(result))\n",
      "c:\\users\\bini\\appdata\\local\\programs\\python\\python38\\lib\\site-packages\\sklearn\\metrics\\_classification.py:1245: UndefinedMetricWarning: Recall and F-score are ill-defined and being set to 0.0 in labels with no true samples. Use `zero_division` parameter to control this behavior.\n",
      "  _warn_prf(average, modifier, msg_start, len(result))\n"
     ]
    }
   ],
   "source": [
    "from sklearn.metrics import classification_report, confusion_matrix\n",
    "print(confusion_matrix(y_test, y_pred))\n",
    "print(classification_report(y_test, y_pred))"
   ]
  },
  {
   "cell_type": "code",
   "execution_count": 10,
   "id": "wrapped-radio",
   "metadata": {},
   "outputs": [],
   "source": [
    "error = []\n",
    "\n",
    "# Calculating error for K values between 1 and 40\n",
    "for i in range(1, 40):\n",
    "    knn = KNeighborsClassifier(n_neighbors=i)\n",
    "    knn.fit(X_train, y_train)\n",
    "    pred_i = knn.predict(X_test)\n",
    "    error.append(np.mean(pred_i != y_test))"
   ]
  },
  {
   "cell_type": "code",
   "execution_count": 11,
   "id": "loved-providence",
   "metadata": {},
   "outputs": [
    {
     "data": {
      "text/plain": [
       "Text(0, 0.5, 'Mean Error')"
      ]
     },
     "execution_count": 11,
     "metadata": {},
     "output_type": "execute_result"
    },
    {
     "data": {
      "image/png": "[encoded data removed]",
      "text/plain": [
       "<Figure size 864x432 with 1 Axes>"
      ]
     },
     "metadata": {
      "needs_background": "light"
     },
     "output_type": "display_data"
    }
   ],
   "source": [
    "plt.figure(figsize=(12, 6))\n",
    "plt.plot(range(1, 40), error, color='red', linestyle='dashed', marker='o',\n",
    "         markerfacecolor='blue', markersize=10)\n",
    "plt.title('Error Rate K Value')\n",
    "plt.xlabel('K Value')\n",
    "plt.ylabel('Mean Error')"
   ]
  },
  {
   "cell_type": "code",
   "execution_count": null,
   "id": "invalid-sally",
   "metadata": {},
   "outputs": [],
   "source": []
  },
  {
   "cell_type": "code",
   "execution_count": null,
   "id": "alert-floor",
   "metadata": {},
   "outputs": [],
   "source": []
  },
  {
   "cell_type": "code",
   "execution_count": null,
   "id": "sustainable-essex",
   "metadata": {},
   "outputs": [],
   "source": []
  }
 ],
 "metadata": {
  "kernelspec": {
   "display_name": "Python 3",
   "language": "python",
   "name": "python3"
  },
  "language_info": {
   "codemirror_mode": {
    "name": "ipython",
    "version": 3
   },
   "file_extension": ".py",
   "mimetype": "text/x-python",
   "name": "python",
   "nbconvert_exporter": "python",
   "pygments_lexer": "ipython3",
   "version": "3.8.5"
  }
 },
 "nbformat": 4,
 "nbformat_minor": 5
}
